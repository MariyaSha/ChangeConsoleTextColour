{
 "cells": [
  {
   "cell_type": "code",
   "execution_count": 5,
   "metadata": {},
   "outputs": [],
   "source": [
    "import random\n",
    "from sty import fg\n",
    "\n",
    "def generateRGB():\n",
    "    red = random.randint(0,256)\n",
    "    green = random.randint(0,256)\n",
    "    blue = random.randint(0,256)\n",
    "    return red, green, blue\n",
    "\n",
    "def generateColour(red, green, blue):\n",
    "    return fg(red, green, blue)"
   ]
  },
  {
   "cell_type": "code",
   "execution_count": 6,
   "metadata": {},
   "outputs": [
    {
     "data": {
      "text/plain": [
       "(159, 109, 249)"
      ]
     },
     "execution_count": 6,
     "metadata": {},
     "output_type": "execute_result"
    }
   ],
   "source": [
    "red, green, blue = generateRGB()\n",
    "red, green, blue"
   ]
  },
  {
   "cell_type": "code",
   "execution_count": 7,
   "metadata": {},
   "outputs": [
    {
     "name": "stdout",
     "output_type": "stream",
     "text": [
      "\u001b[38;2;159;109;249m I'm randomly changing colours muahahahahahaha!!\n"
     ]
    }
   ],
   "source": [
    "colour = generateColour(red, green, blue)\n",
    "print(colour, \"I'm randomly changing colours muahahahahahaha!!\")"
   ]
  }
 ],
 "metadata": {
  "kernelspec": {
   "display_name": "Python 3 (ipykernel)",
   "language": "python",
   "name": "python3"
  },
  "language_info": {
   "codemirror_mode": {
    "name": "ipython",
    "version": 3
   },
   "file_extension": ".py",
   "mimetype": "text/x-python",
   "name": "python",
   "nbconvert_exporter": "python",
   "pygments_lexer": "ipython3",
   "version": "3.9.7"
  }
 },
 "nbformat": 4,
 "nbformat_minor": 4
}
